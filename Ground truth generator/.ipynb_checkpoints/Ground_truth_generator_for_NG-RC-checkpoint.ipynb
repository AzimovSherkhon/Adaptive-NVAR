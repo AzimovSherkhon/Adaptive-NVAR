{
 "cells": [
  {
   "cell_type": "code",
   "execution_count": 1,
   "id": "27ca356e-2f90-441a-9cdc-7e95b7155906",
   "metadata": {},
   "outputs": [],
   "source": [
    "import numpy as np\n",
    "import matplotlib.pyplot as plt\n",
    "from scipy.integrate import solve_ivp"
   ]
  },
  {
   "cell_type": "code",
   "execution_count": 2,
   "id": "1ecd6cb9-9d32-43d1-a21e-70afe674976e",
   "metadata": {},
   "outputs": [],
   "source": [
    "# Time parameters\n",
    "dt = 0.025\n",
    "warmup, traintime, testtime, plottime = 5.0, 40.0, 10.0, 10.0\n",
    "maxtime = warmup + traintime + testtime\n",
    "\n",
    "# Discrete time steps\n",
    "warmup_pts = round(warmup / dt)\n",
    "traintime_pts = round(traintime / dt+1)\n",
    "warmtrain_pts = warmup_pts + traintime_pts\n",
    "testtime_pts = round(testtime / dt)\n",
    "maxtime_pts = round(maxtime / dt)\n",
    "plottime_pts = round(plottime / dt)"
   ]
  },
  {
   "cell_type": "code",
   "execution_count": 3,
   "id": "ff1894ba-1d1b-415e-92c9-c87ebbccdf0c",
   "metadata": {},
   "outputs": [],
   "source": [
    "# Lorenz system definition\n",
    "sigma, beta, rho = 10, 8/3, 28\n",
    "\n",
    "def lorenz(t, y):\n",
    "    return [\n",
    "        sigma * (y[1] - y[0]),\n",
    "        y[0] * (rho - y[2]) - y[1],\n",
    "        y[0] * y[1] - beta * y[2]\n",
    "    ]\n",
    "\n",
    "# Integrate Lorenz system\n",
    "t_eval = np.linspace(0, maxtime, maxtime_pts + 1)\n",
    "sol1 = solve_ivp(lorenz, (0, maxtime), [-8.0, 7.0, 27.0], t_eval=t_eval, method='RK23')\n"
   ]
  },
  {
   "cell_type": "code",
   "execution_count": 4,
   "id": "2cf7be27-c073-4517-b922-af28f36f5a11",
   "metadata": {},
   "outputs": [],
   "source": [
    "np.save(\"ground_truth_NG-RC_noise_free.npy\", sol1.y.T)"
   ]
  },
  {
   "cell_type": "code",
   "execution_count": 5,
   "id": "8563af91-1712-428b-b44c-a04f66c68de8",
   "metadata": {},
   "outputs": [],
   "source": [
    "# Time parameters\n",
    "dt = 0.025\n",
    "warmup, traintime, testtime, plottime = 5.0, 40.0, 2.5, 2.5\n",
    "maxtime = warmup + traintime + testtime\n",
    "\n",
    "# Discrete time steps\n",
    "warmup_pts = round(warmup / dt)\n",
    "traintime_pts = round(traintime / dt+1)\n",
    "warmtrain_pts = warmup_pts + traintime_pts\n",
    "testtime_pts = round(testtime / dt)\n",
    "maxtime_pts = round(maxtime / dt)\n",
    "plottime_pts = round(plottime / dt)"
   ]
  },
  {
   "cell_type": "code",
   "execution_count": 6,
   "id": "db6c9a4a-a0c6-4ca0-b8fd-7b30c732e3f2",
   "metadata": {},
   "outputs": [],
   "source": [
    "# Lorenz system definition\n",
    "sigma, beta, rho = 10, 8/3, 28\n",
    "\n",
    "def lorenz(t, y):\n",
    "    return [\n",
    "        sigma * (y[1] - y[0]),\n",
    "        y[0] * (rho - y[2]) - y[1],\n",
    "        y[0] * y[1] - beta * y[2]\n",
    "    ]\n",
    "\n",
    "# Integrate Lorenz system\n",
    "t_eval = np.linspace(0, maxtime, maxtime_pts + 1)\n",
    "sol2 = solve_ivp(lorenz, (0, maxtime), [-8.0, 7.0, 27.0], t_eval=t_eval, method='RK23')"
   ]
  },
  {
   "cell_type": "code",
   "execution_count": 7,
   "id": "d5666677-bfea-4829-a80f-fc01288dae15",
   "metadata": {},
   "outputs": [],
   "source": [
    "np.save(\"ground_truth_NG-RC_noise.npy\", sol2.y.T)"
   ]
  },
  {
   "cell_type": "code",
   "execution_count": null,
   "id": "1157780b-ec35-4315-b764-b9f7028e8f08",
   "metadata": {},
   "outputs": [],
   "source": []
  }
 ],
 "metadata": {
  "kernelspec": {
   "display_name": "Python 3 (ipykernel)",
   "language": "python",
   "name": "python3"
  },
  "language_info": {
   "codemirror_mode": {
    "name": "ipython",
    "version": 3
   },
   "file_extension": ".py",
   "mimetype": "text/x-python",
   "name": "python",
   "nbconvert_exporter": "python",
   "pygments_lexer": "ipython3",
   "version": "3.12.8"
  }
 },
 "nbformat": 4,
 "nbformat_minor": 5
}
